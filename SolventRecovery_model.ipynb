{
  "nbformat": 4,
  "nbformat_minor": 0,
  "metadata": {
    "colab": {
      "provenance": [],
      "authorship_tag": "ABX9TyNeFePqqjIJ01KvcHDoVHpN",
      "include_colab_link": true
    },
    "kernelspec": {
      "name": "python3",
      "display_name": "Python 3"
    },
    "language_info": {
      "name": "python"
    }
  },
  "cells": [
    {
      "cell_type": "markdown",
      "metadata": {
        "id": "view-in-github",
        "colab_type": "text"
      },
      "source": [
        "<a href=\"https://colab.research.google.com/github/sipocz/I4_0/blob/main/SolventRecovery_model.ipynb\" target=\"_parent\"><img src=\"https://colab.research.google.com/assets/colab-badge.svg\" alt=\"Open In Colab\"/></a>"
      ]
    },
    {
      "cell_type": "code",
      "execution_count": 2,
      "metadata": {
        "id": "a288QUQSGhea"
      },
      "outputs": [],
      "source": [
        "from google.colab import drive\n",
        "import pandas as pd\n",
        "from sklearn.linear_model import LinearRegression\n",
        "from sklearn.linear_model import Ridge\n",
        "from sklearn.linear_model import ElasticNet\n",
        "from sklearn.linear_model import Lasso"
      ]
    },
    {
      "cell_type": "code",
      "source": [
        "!pip install lazypredict"
      ],
      "metadata": {
        "colab": {
          "base_uri": "https://localhost:8080/"
        },
        "id": "Kca_Ojj1_vqe",
        "outputId": "510ce159-64e2-4a69-96c0-17ef1132e96a"
      },
      "execution_count": 3,
      "outputs": [
        {
          "output_type": "stream",
          "name": "stdout",
          "text": [
            "Requirement already satisfied: lazypredict in /usr/local/lib/python3.10/dist-packages (0.2.12)\n",
            "Requirement already satisfied: click in /usr/local/lib/python3.10/dist-packages (from lazypredict) (8.1.7)\n",
            "Requirement already satisfied: scikit-learn in /usr/local/lib/python3.10/dist-packages (from lazypredict) (1.2.2)\n",
            "Requirement already satisfied: pandas in /usr/local/lib/python3.10/dist-packages (from lazypredict) (1.5.3)\n",
            "Requirement already satisfied: tqdm in /usr/local/lib/python3.10/dist-packages (from lazypredict) (4.66.1)\n",
            "Requirement already satisfied: joblib in /usr/local/lib/python3.10/dist-packages (from lazypredict) (1.3.2)\n",
            "Requirement already satisfied: lightgbm in /usr/local/lib/python3.10/dist-packages (from lazypredict) (4.1.0)\n",
            "Requirement already satisfied: xgboost in /usr/local/lib/python3.10/dist-packages (from lazypredict) (2.0.3)\n",
            "Requirement already satisfied: numpy in /usr/local/lib/python3.10/dist-packages (from lightgbm->lazypredict) (1.25.2)\n",
            "Requirement already satisfied: scipy in /usr/local/lib/python3.10/dist-packages (from lightgbm->lazypredict) (1.11.4)\n",
            "Requirement already satisfied: python-dateutil>=2.8.1 in /usr/local/lib/python3.10/dist-packages (from pandas->lazypredict) (2.8.2)\n",
            "Requirement already satisfied: pytz>=2020.1 in /usr/local/lib/python3.10/dist-packages (from pandas->lazypredict) (2023.4)\n",
            "Requirement already satisfied: threadpoolctl>=2.0.0 in /usr/local/lib/python3.10/dist-packages (from scikit-learn->lazypredict) (3.2.0)\n",
            "Requirement already satisfied: six>=1.5 in /usr/local/lib/python3.10/dist-packages (from python-dateutil>=2.8.1->pandas->lazypredict) (1.16.0)\n"
          ]
        }
      ]
    },
    {
      "cell_type": "code",
      "source": [
        "!wget \"https://raw.githubusercontent.com/sipocz/DataFrame_Graph/main/grafikon.py\"\n",
        "!rm grafikon.py.*\n",
        "from grafikon import grafikon"
      ],
      "metadata": {
        "colab": {
          "base_uri": "https://localhost:8080/"
        },
        "id": "LZt4mWNkHQEj",
        "outputId": "cc36e439-3e79-44b7-b5c0-5ad6e6fd2c16"
      },
      "execution_count": 4,
      "outputs": [
        {
          "output_type": "stream",
          "name": "stdout",
          "text": [
            "--2024-02-14 19:20:25--  https://raw.githubusercontent.com/sipocz/DataFrame_Graph/main/grafikon.py\n",
            "Resolving raw.githubusercontent.com (raw.githubusercontent.com)... 185.199.108.133, 185.199.111.133, 185.199.110.133, ...\n",
            "Connecting to raw.githubusercontent.com (raw.githubusercontent.com)|185.199.108.133|:443... connected.\n",
            "HTTP request sent, awaiting response... 200 OK\n",
            "Length: 2539 (2.5K) [text/plain]\n",
            "Saving to: ‘grafikon.py.1’\n",
            "\n",
            "\rgrafikon.py.1         0%[                    ]       0  --.-KB/s               \rgrafikon.py.1       100%[===================>]   2.48K  --.-KB/s    in 0s      \n",
            "\n",
            "2024-02-14 19:20:25 (32.9 MB/s) - ‘grafikon.py.1’ saved [2539/2539]\n",
            "\n"
          ]
        }
      ]
    },
    {
      "cell_type": "code",
      "source": [
        "drive.mount('/content/drive', readonly=False,force_remount=True )"
      ],
      "metadata": {
        "colab": {
          "base_uri": "https://localhost:8080/"
        },
        "id": "9P9h6q5iHc44",
        "outputId": "c187e635-c16b-479b-e077-10b51d7bac4d"
      },
      "execution_count": 5,
      "outputs": [
        {
          "output_type": "stream",
          "name": "stdout",
          "text": [
            "Mounted at /content/drive\n"
          ]
        }
      ]
    },
    {
      "cell_type": "code",
      "source": [
        "path=\"/content/drive/MyDrive/000_OLD_UZ\""
      ],
      "metadata": {
        "id": "lzVgXtXZHzOc"
      },
      "execution_count": 6,
      "outputs": []
    },
    {
      "cell_type": "code",
      "source": [
        "fname=\"/all_data_2.csv\""
      ],
      "metadata": {
        "id": "MXogvX8_IYZV"
      },
      "execution_count": 7,
      "outputs": []
    },
    {
      "cell_type": "code",
      "source": [
        "dfx=pd.read_csv(path+fname,header=0)"
      ],
      "metadata": {
        "id": "2dHErAlebgML"
      },
      "execution_count": 8,
      "outputs": []
    },
    {
      "cell_type": "code",
      "source": [
        "dfx[\"time\"]=pd.to_datetime(dfx[\"Unnamed: 0\"], format=\"%Y-%m-%d %H:%M:%S\")"
      ],
      "metadata": {
        "id": "VSf2Xv7w-TVW"
      },
      "execution_count": 9,
      "outputs": []
    },
    {
      "cell_type": "code",
      "source": [
        "del(dfx[\"Unnamed: 0\"])"
      ],
      "metadata": {
        "id": "Evyl1a_Y_Yme"
      },
      "execution_count": 10,
      "outputs": []
    },
    {
      "cell_type": "code",
      "source": [
        "dfx.set_index(\"time\", inplace=True)"
      ],
      "metadata": {
        "id": "q-1q8SVq_jxo"
      },
      "execution_count": 11,
      "outputs": []
    },
    {
      "cell_type": "code",
      "source": [
        "dfx.head()"
      ],
      "metadata": {
        "colab": {
          "base_uri": "https://localhost:8080/",
          "height": 237
        },
        "id": "g-71TPAp9nLv",
        "outputId": "b8bc40fc-8269-4bc5-bc7f-a117ee9b4607"
      },
      "execution_count": 12,
      "outputs": [
        {
          "output_type": "execute_result",
          "data": {
            "text/plain": [
              "                      AQ_T020F  AQ_T1201A   AQ_T120F   AQ_T230A   AQ_T230F  \\\n",
              "time                                                                         \n",
              "2023-01-02 06:16:00  23.776934  17.828875   4.900117  12.660896  23.570222   \n",
              "2023-01-02 06:17:00  23.754014  17.819870   4.141409  12.708865  23.606270   \n",
              "2023-01-02 06:18:00  23.749197  17.812402   3.234768  12.674554  23.618385   \n",
              "2023-01-02 06:19:00  23.682667  17.808044   2.210577  12.658885  23.571005   \n",
              "2023-01-02 06:20:00  23.739033  17.808044  23.843294  12.669671  23.623784   \n",
              "\n",
              "                      AQ_T340A   AQ_T340F   AQ_T460A   AQ_T460F   QK_F_TK  \\\n",
              "time                                                                        \n",
              "2023-01-02 06:16:00  12.864716  29.333354  12.079014  28.130545  6.422404   \n",
              "2023-01-02 06:17:00  12.909157  29.322210  12.056528  28.063407  6.399333   \n",
              "2023-01-02 06:18:00  12.877661  29.324866  12.114329  28.106786  6.399333   \n",
              "2023-01-02 06:19:00  12.904964  29.316676  12.109457  28.063775  6.399437   \n",
              "2023-01-02 06:20:00  12.925092  29.285329  12.116338  28.111876  6.393624   \n",
              "\n",
              "                     EXX_FIG101  \n",
              "time                             \n",
              "2023-01-02 06:16:00    0.570395  \n",
              "2023-01-02 06:17:00    0.544040  \n",
              "2023-01-02 06:18:00    0.518203  \n",
              "2023-01-02 06:19:00    0.534899  \n",
              "2023-01-02 06:20:00    0.543849  "
            ],
            "text/html": [
              "\n",
              "  <div id=\"df-800a2446-026a-47f6-8312-9172bda4e8f1\" class=\"colab-df-container\">\n",
              "    <div>\n",
              "<style scoped>\n",
              "    .dataframe tbody tr th:only-of-type {\n",
              "        vertical-align: middle;\n",
              "    }\n",
              "\n",
              "    .dataframe tbody tr th {\n",
              "        vertical-align: top;\n",
              "    }\n",
              "\n",
              "    .dataframe thead th {\n",
              "        text-align: right;\n",
              "    }\n",
              "</style>\n",
              "<table border=\"1\" class=\"dataframe\">\n",
              "  <thead>\n",
              "    <tr style=\"text-align: right;\">\n",
              "      <th></th>\n",
              "      <th>AQ_T020F</th>\n",
              "      <th>AQ_T1201A</th>\n",
              "      <th>AQ_T120F</th>\n",
              "      <th>AQ_T230A</th>\n",
              "      <th>AQ_T230F</th>\n",
              "      <th>AQ_T340A</th>\n",
              "      <th>AQ_T340F</th>\n",
              "      <th>AQ_T460A</th>\n",
              "      <th>AQ_T460F</th>\n",
              "      <th>QK_F_TK</th>\n",
              "      <th>EXX_FIG101</th>\n",
              "    </tr>\n",
              "    <tr>\n",
              "      <th>time</th>\n",
              "      <th></th>\n",
              "      <th></th>\n",
              "      <th></th>\n",
              "      <th></th>\n",
              "      <th></th>\n",
              "      <th></th>\n",
              "      <th></th>\n",
              "      <th></th>\n",
              "      <th></th>\n",
              "      <th></th>\n",
              "      <th></th>\n",
              "    </tr>\n",
              "  </thead>\n",
              "  <tbody>\n",
              "    <tr>\n",
              "      <th>2023-01-02 06:16:00</th>\n",
              "      <td>23.776934</td>\n",
              "      <td>17.828875</td>\n",
              "      <td>4.900117</td>\n",
              "      <td>12.660896</td>\n",
              "      <td>23.570222</td>\n",
              "      <td>12.864716</td>\n",
              "      <td>29.333354</td>\n",
              "      <td>12.079014</td>\n",
              "      <td>28.130545</td>\n",
              "      <td>6.422404</td>\n",
              "      <td>0.570395</td>\n",
              "    </tr>\n",
              "    <tr>\n",
              "      <th>2023-01-02 06:17:00</th>\n",
              "      <td>23.754014</td>\n",
              "      <td>17.819870</td>\n",
              "      <td>4.141409</td>\n",
              "      <td>12.708865</td>\n",
              "      <td>23.606270</td>\n",
              "      <td>12.909157</td>\n",
              "      <td>29.322210</td>\n",
              "      <td>12.056528</td>\n",
              "      <td>28.063407</td>\n",
              "      <td>6.399333</td>\n",
              "      <td>0.544040</td>\n",
              "    </tr>\n",
              "    <tr>\n",
              "      <th>2023-01-02 06:18:00</th>\n",
              "      <td>23.749197</td>\n",
              "      <td>17.812402</td>\n",
              "      <td>3.234768</td>\n",
              "      <td>12.674554</td>\n",
              "      <td>23.618385</td>\n",
              "      <td>12.877661</td>\n",
              "      <td>29.324866</td>\n",
              "      <td>12.114329</td>\n",
              "      <td>28.106786</td>\n",
              "      <td>6.399333</td>\n",
              "      <td>0.518203</td>\n",
              "    </tr>\n",
              "    <tr>\n",
              "      <th>2023-01-02 06:19:00</th>\n",
              "      <td>23.682667</td>\n",
              "      <td>17.808044</td>\n",
              "      <td>2.210577</td>\n",
              "      <td>12.658885</td>\n",
              "      <td>23.571005</td>\n",
              "      <td>12.904964</td>\n",
              "      <td>29.316676</td>\n",
              "      <td>12.109457</td>\n",
              "      <td>28.063775</td>\n",
              "      <td>6.399437</td>\n",
              "      <td>0.534899</td>\n",
              "    </tr>\n",
              "    <tr>\n",
              "      <th>2023-01-02 06:20:00</th>\n",
              "      <td>23.739033</td>\n",
              "      <td>17.808044</td>\n",
              "      <td>23.843294</td>\n",
              "      <td>12.669671</td>\n",
              "      <td>23.623784</td>\n",
              "      <td>12.925092</td>\n",
              "      <td>29.285329</td>\n",
              "      <td>12.116338</td>\n",
              "      <td>28.111876</td>\n",
              "      <td>6.393624</td>\n",
              "      <td>0.543849</td>\n",
              "    </tr>\n",
              "  </tbody>\n",
              "</table>\n",
              "</div>\n",
              "    <div class=\"colab-df-buttons\">\n",
              "\n",
              "  <div class=\"colab-df-container\">\n",
              "    <button class=\"colab-df-convert\" onclick=\"convertToInteractive('df-800a2446-026a-47f6-8312-9172bda4e8f1')\"\n",
              "            title=\"Convert this dataframe to an interactive table.\"\n",
              "            style=\"display:none;\">\n",
              "\n",
              "  <svg xmlns=\"http://www.w3.org/2000/svg\" height=\"24px\" viewBox=\"0 -960 960 960\">\n",
              "    <path d=\"M120-120v-720h720v720H120Zm60-500h600v-160H180v160Zm220 220h160v-160H400v160Zm0 220h160v-160H400v160ZM180-400h160v-160H180v160Zm440 0h160v-160H620v160ZM180-180h160v-160H180v160Zm440 0h160v-160H620v160Z\"/>\n",
              "  </svg>\n",
              "    </button>\n",
              "\n",
              "  <style>\n",
              "    .colab-df-container {\n",
              "      display:flex;\n",
              "      gap: 12px;\n",
              "    }\n",
              "\n",
              "    .colab-df-convert {\n",
              "      background-color: #E8F0FE;\n",
              "      border: none;\n",
              "      border-radius: 50%;\n",
              "      cursor: pointer;\n",
              "      display: none;\n",
              "      fill: #1967D2;\n",
              "      height: 32px;\n",
              "      padding: 0 0 0 0;\n",
              "      width: 32px;\n",
              "    }\n",
              "\n",
              "    .colab-df-convert:hover {\n",
              "      background-color: #E2EBFA;\n",
              "      box-shadow: 0px 1px 2px rgba(60, 64, 67, 0.3), 0px 1px 3px 1px rgba(60, 64, 67, 0.15);\n",
              "      fill: #174EA6;\n",
              "    }\n",
              "\n",
              "    .colab-df-buttons div {\n",
              "      margin-bottom: 4px;\n",
              "    }\n",
              "\n",
              "    [theme=dark] .colab-df-convert {\n",
              "      background-color: #3B4455;\n",
              "      fill: #D2E3FC;\n",
              "    }\n",
              "\n",
              "    [theme=dark] .colab-df-convert:hover {\n",
              "      background-color: #434B5C;\n",
              "      box-shadow: 0px 1px 3px 1px rgba(0, 0, 0, 0.15);\n",
              "      filter: drop-shadow(0px 1px 2px rgba(0, 0, 0, 0.3));\n",
              "      fill: #FFFFFF;\n",
              "    }\n",
              "  </style>\n",
              "\n",
              "    <script>\n",
              "      const buttonEl =\n",
              "        document.querySelector('#df-800a2446-026a-47f6-8312-9172bda4e8f1 button.colab-df-convert');\n",
              "      buttonEl.style.display =\n",
              "        google.colab.kernel.accessAllowed ? 'block' : 'none';\n",
              "\n",
              "      async function convertToInteractive(key) {\n",
              "        const element = document.querySelector('#df-800a2446-026a-47f6-8312-9172bda4e8f1');\n",
              "        const dataTable =\n",
              "          await google.colab.kernel.invokeFunction('convertToInteractive',\n",
              "                                                    [key], {});\n",
              "        if (!dataTable) return;\n",
              "\n",
              "        const docLinkHtml = 'Like what you see? Visit the ' +\n",
              "          '<a target=\"_blank\" href=https://colab.research.google.com/notebooks/data_table.ipynb>data table notebook</a>'\n",
              "          + ' to learn more about interactive tables.';\n",
              "        element.innerHTML = '';\n",
              "        dataTable['output_type'] = 'display_data';\n",
              "        await google.colab.output.renderOutput(dataTable, element);\n",
              "        const docLink = document.createElement('div');\n",
              "        docLink.innerHTML = docLinkHtml;\n",
              "        element.appendChild(docLink);\n",
              "      }\n",
              "    </script>\n",
              "  </div>\n",
              "\n",
              "\n",
              "<div id=\"df-53930b75-e4e0-48d6-90df-36e50d89d27f\">\n",
              "  <button class=\"colab-df-quickchart\" onclick=\"quickchart('df-53930b75-e4e0-48d6-90df-36e50d89d27f')\"\n",
              "            title=\"Suggest charts\"\n",
              "            style=\"display:none;\">\n",
              "\n",
              "<svg xmlns=\"http://www.w3.org/2000/svg\" height=\"24px\"viewBox=\"0 0 24 24\"\n",
              "     width=\"24px\">\n",
              "    <g>\n",
              "        <path d=\"M19 3H5c-1.1 0-2 .9-2 2v14c0 1.1.9 2 2 2h14c1.1 0 2-.9 2-2V5c0-1.1-.9-2-2-2zM9 17H7v-7h2v7zm4 0h-2V7h2v10zm4 0h-2v-4h2v4z\"/>\n",
              "    </g>\n",
              "</svg>\n",
              "  </button>\n",
              "\n",
              "<style>\n",
              "  .colab-df-quickchart {\n",
              "      --bg-color: #E8F0FE;\n",
              "      --fill-color: #1967D2;\n",
              "      --hover-bg-color: #E2EBFA;\n",
              "      --hover-fill-color: #174EA6;\n",
              "      --disabled-fill-color: #AAA;\n",
              "      --disabled-bg-color: #DDD;\n",
              "  }\n",
              "\n",
              "  [theme=dark] .colab-df-quickchart {\n",
              "      --bg-color: #3B4455;\n",
              "      --fill-color: #D2E3FC;\n",
              "      --hover-bg-color: #434B5C;\n",
              "      --hover-fill-color: #FFFFFF;\n",
              "      --disabled-bg-color: #3B4455;\n",
              "      --disabled-fill-color: #666;\n",
              "  }\n",
              "\n",
              "  .colab-df-quickchart {\n",
              "    background-color: var(--bg-color);\n",
              "    border: none;\n",
              "    border-radius: 50%;\n",
              "    cursor: pointer;\n",
              "    display: none;\n",
              "    fill: var(--fill-color);\n",
              "    height: 32px;\n",
              "    padding: 0;\n",
              "    width: 32px;\n",
              "  }\n",
              "\n",
              "  .colab-df-quickchart:hover {\n",
              "    background-color: var(--hover-bg-color);\n",
              "    box-shadow: 0 1px 2px rgba(60, 64, 67, 0.3), 0 1px 3px 1px rgba(60, 64, 67, 0.15);\n",
              "    fill: var(--button-hover-fill-color);\n",
              "  }\n",
              "\n",
              "  .colab-df-quickchart-complete:disabled,\n",
              "  .colab-df-quickchart-complete:disabled:hover {\n",
              "    background-color: var(--disabled-bg-color);\n",
              "    fill: var(--disabled-fill-color);\n",
              "    box-shadow: none;\n",
              "  }\n",
              "\n",
              "  .colab-df-spinner {\n",
              "    border: 2px solid var(--fill-color);\n",
              "    border-color: transparent;\n",
              "    border-bottom-color: var(--fill-color);\n",
              "    animation:\n",
              "      spin 1s steps(1) infinite;\n",
              "  }\n",
              "\n",
              "  @keyframes spin {\n",
              "    0% {\n",
              "      border-color: transparent;\n",
              "      border-bottom-color: var(--fill-color);\n",
              "      border-left-color: var(--fill-color);\n",
              "    }\n",
              "    20% {\n",
              "      border-color: transparent;\n",
              "      border-left-color: var(--fill-color);\n",
              "      border-top-color: var(--fill-color);\n",
              "    }\n",
              "    30% {\n",
              "      border-color: transparent;\n",
              "      border-left-color: var(--fill-color);\n",
              "      border-top-color: var(--fill-color);\n",
              "      border-right-color: var(--fill-color);\n",
              "    }\n",
              "    40% {\n",
              "      border-color: transparent;\n",
              "      border-right-color: var(--fill-color);\n",
              "      border-top-color: var(--fill-color);\n",
              "    }\n",
              "    60% {\n",
              "      border-color: transparent;\n",
              "      border-right-color: var(--fill-color);\n",
              "    }\n",
              "    80% {\n",
              "      border-color: transparent;\n",
              "      border-right-color: var(--fill-color);\n",
              "      border-bottom-color: var(--fill-color);\n",
              "    }\n",
              "    90% {\n",
              "      border-color: transparent;\n",
              "      border-bottom-color: var(--fill-color);\n",
              "    }\n",
              "  }\n",
              "</style>\n",
              "\n",
              "  <script>\n",
              "    async function quickchart(key) {\n",
              "      const quickchartButtonEl =\n",
              "        document.querySelector('#' + key + ' button');\n",
              "      quickchartButtonEl.disabled = true;  // To prevent multiple clicks.\n",
              "      quickchartButtonEl.classList.add('colab-df-spinner');\n",
              "      try {\n",
              "        const charts = await google.colab.kernel.invokeFunction(\n",
              "            'suggestCharts', [key], {});\n",
              "      } catch (error) {\n",
              "        console.error('Error during call to suggestCharts:', error);\n",
              "      }\n",
              "      quickchartButtonEl.classList.remove('colab-df-spinner');\n",
              "      quickchartButtonEl.classList.add('colab-df-quickchart-complete');\n",
              "    }\n",
              "    (() => {\n",
              "      let quickchartButtonEl =\n",
              "        document.querySelector('#df-53930b75-e4e0-48d6-90df-36e50d89d27f button');\n",
              "      quickchartButtonEl.style.display =\n",
              "        google.colab.kernel.accessAllowed ? 'block' : 'none';\n",
              "    })();\n",
              "  </script>\n",
              "</div>\n",
              "    </div>\n",
              "  </div>\n"
            ],
            "application/vnd.google.colaboratory.intrinsic+json": {
              "type": "dataframe",
              "variable_name": "dfx"
            }
          },
          "metadata": {},
          "execution_count": 12
        }
      ]
    },
    {
      "cell_type": "code",
      "source": [
        "dfx.head()"
      ],
      "metadata": {
        "colab": {
          "base_uri": "https://localhost:8080/",
          "height": 237
        },
        "id": "85-ybVcAil23",
        "outputId": "c4fda97f-dc1d-43f6-8923-777b95d197d2"
      },
      "execution_count": 13,
      "outputs": [
        {
          "output_type": "execute_result",
          "data": {
            "text/plain": [
              "                      AQ_T020F  AQ_T1201A   AQ_T120F   AQ_T230A   AQ_T230F  \\\n",
              "time                                                                         \n",
              "2023-01-02 06:16:00  23.776934  17.828875   4.900117  12.660896  23.570222   \n",
              "2023-01-02 06:17:00  23.754014  17.819870   4.141409  12.708865  23.606270   \n",
              "2023-01-02 06:18:00  23.749197  17.812402   3.234768  12.674554  23.618385   \n",
              "2023-01-02 06:19:00  23.682667  17.808044   2.210577  12.658885  23.571005   \n",
              "2023-01-02 06:20:00  23.739033  17.808044  23.843294  12.669671  23.623784   \n",
              "\n",
              "                      AQ_T340A   AQ_T340F   AQ_T460A   AQ_T460F   QK_F_TK  \\\n",
              "time                                                                        \n",
              "2023-01-02 06:16:00  12.864716  29.333354  12.079014  28.130545  6.422404   \n",
              "2023-01-02 06:17:00  12.909157  29.322210  12.056528  28.063407  6.399333   \n",
              "2023-01-02 06:18:00  12.877661  29.324866  12.114329  28.106786  6.399333   \n",
              "2023-01-02 06:19:00  12.904964  29.316676  12.109457  28.063775  6.399437   \n",
              "2023-01-02 06:20:00  12.925092  29.285329  12.116338  28.111876  6.393624   \n",
              "\n",
              "                     EXX_FIG101  \n",
              "time                             \n",
              "2023-01-02 06:16:00    0.570395  \n",
              "2023-01-02 06:17:00    0.544040  \n",
              "2023-01-02 06:18:00    0.518203  \n",
              "2023-01-02 06:19:00    0.534899  \n",
              "2023-01-02 06:20:00    0.543849  "
            ],
            "text/html": [
              "\n",
              "  <div id=\"df-f09ef183-eac6-4510-87f0-50323ce80280\" class=\"colab-df-container\">\n",
              "    <div>\n",
              "<style scoped>\n",
              "    .dataframe tbody tr th:only-of-type {\n",
              "        vertical-align: middle;\n",
              "    }\n",
              "\n",
              "    .dataframe tbody tr th {\n",
              "        vertical-align: top;\n",
              "    }\n",
              "\n",
              "    .dataframe thead th {\n",
              "        text-align: right;\n",
              "    }\n",
              "</style>\n",
              "<table border=\"1\" class=\"dataframe\">\n",
              "  <thead>\n",
              "    <tr style=\"text-align: right;\">\n",
              "      <th></th>\n",
              "      <th>AQ_T020F</th>\n",
              "      <th>AQ_T1201A</th>\n",
              "      <th>AQ_T120F</th>\n",
              "      <th>AQ_T230A</th>\n",
              "      <th>AQ_T230F</th>\n",
              "      <th>AQ_T340A</th>\n",
              "      <th>AQ_T340F</th>\n",
              "      <th>AQ_T460A</th>\n",
              "      <th>AQ_T460F</th>\n",
              "      <th>QK_F_TK</th>\n",
              "      <th>EXX_FIG101</th>\n",
              "    </tr>\n",
              "    <tr>\n",
              "      <th>time</th>\n",
              "      <th></th>\n",
              "      <th></th>\n",
              "      <th></th>\n",
              "      <th></th>\n",
              "      <th></th>\n",
              "      <th></th>\n",
              "      <th></th>\n",
              "      <th></th>\n",
              "      <th></th>\n",
              "      <th></th>\n",
              "      <th></th>\n",
              "    </tr>\n",
              "  </thead>\n",
              "  <tbody>\n",
              "    <tr>\n",
              "      <th>2023-01-02 06:16:00</th>\n",
              "      <td>23.776934</td>\n",
              "      <td>17.828875</td>\n",
              "      <td>4.900117</td>\n",
              "      <td>12.660896</td>\n",
              "      <td>23.570222</td>\n",
              "      <td>12.864716</td>\n",
              "      <td>29.333354</td>\n",
              "      <td>12.079014</td>\n",
              "      <td>28.130545</td>\n",
              "      <td>6.422404</td>\n",
              "      <td>0.570395</td>\n",
              "    </tr>\n",
              "    <tr>\n",
              "      <th>2023-01-02 06:17:00</th>\n",
              "      <td>23.754014</td>\n",
              "      <td>17.819870</td>\n",
              "      <td>4.141409</td>\n",
              "      <td>12.708865</td>\n",
              "      <td>23.606270</td>\n",
              "      <td>12.909157</td>\n",
              "      <td>29.322210</td>\n",
              "      <td>12.056528</td>\n",
              "      <td>28.063407</td>\n",
              "      <td>6.399333</td>\n",
              "      <td>0.544040</td>\n",
              "    </tr>\n",
              "    <tr>\n",
              "      <th>2023-01-02 06:18:00</th>\n",
              "      <td>23.749197</td>\n",
              "      <td>17.812402</td>\n",
              "      <td>3.234768</td>\n",
              "      <td>12.674554</td>\n",
              "      <td>23.618385</td>\n",
              "      <td>12.877661</td>\n",
              "      <td>29.324866</td>\n",
              "      <td>12.114329</td>\n",
              "      <td>28.106786</td>\n",
              "      <td>6.399333</td>\n",
              "      <td>0.518203</td>\n",
              "    </tr>\n",
              "    <tr>\n",
              "      <th>2023-01-02 06:19:00</th>\n",
              "      <td>23.682667</td>\n",
              "      <td>17.808044</td>\n",
              "      <td>2.210577</td>\n",
              "      <td>12.658885</td>\n",
              "      <td>23.571005</td>\n",
              "      <td>12.904964</td>\n",
              "      <td>29.316676</td>\n",
              "      <td>12.109457</td>\n",
              "      <td>28.063775</td>\n",
              "      <td>6.399437</td>\n",
              "      <td>0.534899</td>\n",
              "    </tr>\n",
              "    <tr>\n",
              "      <th>2023-01-02 06:20:00</th>\n",
              "      <td>23.739033</td>\n",
              "      <td>17.808044</td>\n",
              "      <td>23.843294</td>\n",
              "      <td>12.669671</td>\n",
              "      <td>23.623784</td>\n",
              "      <td>12.925092</td>\n",
              "      <td>29.285329</td>\n",
              "      <td>12.116338</td>\n",
              "      <td>28.111876</td>\n",
              "      <td>6.393624</td>\n",
              "      <td>0.543849</td>\n",
              "    </tr>\n",
              "  </tbody>\n",
              "</table>\n",
              "</div>\n",
              "    <div class=\"colab-df-buttons\">\n",
              "\n",
              "  <div class=\"colab-df-container\">\n",
              "    <button class=\"colab-df-convert\" onclick=\"convertToInteractive('df-f09ef183-eac6-4510-87f0-50323ce80280')\"\n",
              "            title=\"Convert this dataframe to an interactive table.\"\n",
              "            style=\"display:none;\">\n",
              "\n",
              "  <svg xmlns=\"http://www.w3.org/2000/svg\" height=\"24px\" viewBox=\"0 -960 960 960\">\n",
              "    <path d=\"M120-120v-720h720v720H120Zm60-500h600v-160H180v160Zm220 220h160v-160H400v160Zm0 220h160v-160H400v160ZM180-400h160v-160H180v160Zm440 0h160v-160H620v160ZM180-180h160v-160H180v160Zm440 0h160v-160H620v160Z\"/>\n",
              "  </svg>\n",
              "    </button>\n",
              "\n",
              "  <style>\n",
              "    .colab-df-container {\n",
              "      display:flex;\n",
              "      gap: 12px;\n",
              "    }\n",
              "\n",
              "    .colab-df-convert {\n",
              "      background-color: #E8F0FE;\n",
              "      border: none;\n",
              "      border-radius: 50%;\n",
              "      cursor: pointer;\n",
              "      display: none;\n",
              "      fill: #1967D2;\n",
              "      height: 32px;\n",
              "      padding: 0 0 0 0;\n",
              "      width: 32px;\n",
              "    }\n",
              "\n",
              "    .colab-df-convert:hover {\n",
              "      background-color: #E2EBFA;\n",
              "      box-shadow: 0px 1px 2px rgba(60, 64, 67, 0.3), 0px 1px 3px 1px rgba(60, 64, 67, 0.15);\n",
              "      fill: #174EA6;\n",
              "    }\n",
              "\n",
              "    .colab-df-buttons div {\n",
              "      margin-bottom: 4px;\n",
              "    }\n",
              "\n",
              "    [theme=dark] .colab-df-convert {\n",
              "      background-color: #3B4455;\n",
              "      fill: #D2E3FC;\n",
              "    }\n",
              "\n",
              "    [theme=dark] .colab-df-convert:hover {\n",
              "      background-color: #434B5C;\n",
              "      box-shadow: 0px 1px 3px 1px rgba(0, 0, 0, 0.15);\n",
              "      filter: drop-shadow(0px 1px 2px rgba(0, 0, 0, 0.3));\n",
              "      fill: #FFFFFF;\n",
              "    }\n",
              "  </style>\n",
              "\n",
              "    <script>\n",
              "      const buttonEl =\n",
              "        document.querySelector('#df-f09ef183-eac6-4510-87f0-50323ce80280 button.colab-df-convert');\n",
              "      buttonEl.style.display =\n",
              "        google.colab.kernel.accessAllowed ? 'block' : 'none';\n",
              "\n",
              "      async function convertToInteractive(key) {\n",
              "        const element = document.querySelector('#df-f09ef183-eac6-4510-87f0-50323ce80280');\n",
              "        const dataTable =\n",
              "          await google.colab.kernel.invokeFunction('convertToInteractive',\n",
              "                                                    [key], {});\n",
              "        if (!dataTable) return;\n",
              "\n",
              "        const docLinkHtml = 'Like what you see? Visit the ' +\n",
              "          '<a target=\"_blank\" href=https://colab.research.google.com/notebooks/data_table.ipynb>data table notebook</a>'\n",
              "          + ' to learn more about interactive tables.';\n",
              "        element.innerHTML = '';\n",
              "        dataTable['output_type'] = 'display_data';\n",
              "        await google.colab.output.renderOutput(dataTable, element);\n",
              "        const docLink = document.createElement('div');\n",
              "        docLink.innerHTML = docLinkHtml;\n",
              "        element.appendChild(docLink);\n",
              "      }\n",
              "    </script>\n",
              "  </div>\n",
              "\n",
              "\n",
              "<div id=\"df-c8af48ab-15e0-4ccd-904e-c4471976fe6c\">\n",
              "  <button class=\"colab-df-quickchart\" onclick=\"quickchart('df-c8af48ab-15e0-4ccd-904e-c4471976fe6c')\"\n",
              "            title=\"Suggest charts\"\n",
              "            style=\"display:none;\">\n",
              "\n",
              "<svg xmlns=\"http://www.w3.org/2000/svg\" height=\"24px\"viewBox=\"0 0 24 24\"\n",
              "     width=\"24px\">\n",
              "    <g>\n",
              "        <path d=\"M19 3H5c-1.1 0-2 .9-2 2v14c0 1.1.9 2 2 2h14c1.1 0 2-.9 2-2V5c0-1.1-.9-2-2-2zM9 17H7v-7h2v7zm4 0h-2V7h2v10zm4 0h-2v-4h2v4z\"/>\n",
              "    </g>\n",
              "</svg>\n",
              "  </button>\n",
              "\n",
              "<style>\n",
              "  .colab-df-quickchart {\n",
              "      --bg-color: #E8F0FE;\n",
              "      --fill-color: #1967D2;\n",
              "      --hover-bg-color: #E2EBFA;\n",
              "      --hover-fill-color: #174EA6;\n",
              "      --disabled-fill-color: #AAA;\n",
              "      --disabled-bg-color: #DDD;\n",
              "  }\n",
              "\n",
              "  [theme=dark] .colab-df-quickchart {\n",
              "      --bg-color: #3B4455;\n",
              "      --fill-color: #D2E3FC;\n",
              "      --hover-bg-color: #434B5C;\n",
              "      --hover-fill-color: #FFFFFF;\n",
              "      --disabled-bg-color: #3B4455;\n",
              "      --disabled-fill-color: #666;\n",
              "  }\n",
              "\n",
              "  .colab-df-quickchart {\n",
              "    background-color: var(--bg-color);\n",
              "    border: none;\n",
              "    border-radius: 50%;\n",
              "    cursor: pointer;\n",
              "    display: none;\n",
              "    fill: var(--fill-color);\n",
              "    height: 32px;\n",
              "    padding: 0;\n",
              "    width: 32px;\n",
              "  }\n",
              "\n",
              "  .colab-df-quickchart:hover {\n",
              "    background-color: var(--hover-bg-color);\n",
              "    box-shadow: 0 1px 2px rgba(60, 64, 67, 0.3), 0 1px 3px 1px rgba(60, 64, 67, 0.15);\n",
              "    fill: var(--button-hover-fill-color);\n",
              "  }\n",
              "\n",
              "  .colab-df-quickchart-complete:disabled,\n",
              "  .colab-df-quickchart-complete:disabled:hover {\n",
              "    background-color: var(--disabled-bg-color);\n",
              "    fill: var(--disabled-fill-color);\n",
              "    box-shadow: none;\n",
              "  }\n",
              "\n",
              "  .colab-df-spinner {\n",
              "    border: 2px solid var(--fill-color);\n",
              "    border-color: transparent;\n",
              "    border-bottom-color: var(--fill-color);\n",
              "    animation:\n",
              "      spin 1s steps(1) infinite;\n",
              "  }\n",
              "\n",
              "  @keyframes spin {\n",
              "    0% {\n",
              "      border-color: transparent;\n",
              "      border-bottom-color: var(--fill-color);\n",
              "      border-left-color: var(--fill-color);\n",
              "    }\n",
              "    20% {\n",
              "      border-color: transparent;\n",
              "      border-left-color: var(--fill-color);\n",
              "      border-top-color: var(--fill-color);\n",
              "    }\n",
              "    30% {\n",
              "      border-color: transparent;\n",
              "      border-left-color: var(--fill-color);\n",
              "      border-top-color: var(--fill-color);\n",
              "      border-right-color: var(--fill-color);\n",
              "    }\n",
              "    40% {\n",
              "      border-color: transparent;\n",
              "      border-right-color: var(--fill-color);\n",
              "      border-top-color: var(--fill-color);\n",
              "    }\n",
              "    60% {\n",
              "      border-color: transparent;\n",
              "      border-right-color: var(--fill-color);\n",
              "    }\n",
              "    80% {\n",
              "      border-color: transparent;\n",
              "      border-right-color: var(--fill-color);\n",
              "      border-bottom-color: var(--fill-color);\n",
              "    }\n",
              "    90% {\n",
              "      border-color: transparent;\n",
              "      border-bottom-color: var(--fill-color);\n",
              "    }\n",
              "  }\n",
              "</style>\n",
              "\n",
              "  <script>\n",
              "    async function quickchart(key) {\n",
              "      const quickchartButtonEl =\n",
              "        document.querySelector('#' + key + ' button');\n",
              "      quickchartButtonEl.disabled = true;  // To prevent multiple clicks.\n",
              "      quickchartButtonEl.classList.add('colab-df-spinner');\n",
              "      try {\n",
              "        const charts = await google.colab.kernel.invokeFunction(\n",
              "            'suggestCharts', [key], {});\n",
              "      } catch (error) {\n",
              "        console.error('Error during call to suggestCharts:', error);\n",
              "      }\n",
              "      quickchartButtonEl.classList.remove('colab-df-spinner');\n",
              "      quickchartButtonEl.classList.add('colab-df-quickchart-complete');\n",
              "    }\n",
              "    (() => {\n",
              "      let quickchartButtonEl =\n",
              "        document.querySelector('#df-c8af48ab-15e0-4ccd-904e-c4471976fe6c button');\n",
              "      quickchartButtonEl.style.display =\n",
              "        google.colab.kernel.accessAllowed ? 'block' : 'none';\n",
              "    })();\n",
              "  </script>\n",
              "</div>\n",
              "    </div>\n",
              "  </div>\n"
            ],
            "application/vnd.google.colaboratory.intrinsic+json": {
              "type": "dataframe",
              "variable_name": "dfx"
            }
          },
          "metadata": {},
          "execution_count": 13
        }
      ]
    },
    {
      "cell_type": "code",
      "source": [
        "X=dfx[['AQ_T020F','AQ_T1201A','AQ_T120F','AQ_T230A','AQ_T230F','AQ_T340A','AQ_T340F','AQ_T460A','AQ_T460F','QK_F_TK']]"
      ],
      "metadata": {
        "id": "zNrYpzHiAqms"
      },
      "execution_count": 14,
      "outputs": []
    },
    {
      "cell_type": "code",
      "source": [
        "y=dfx[\"EXX_FIG101\"]"
      ],
      "metadata": {
        "id": "hZhF33A4A8Ts"
      },
      "execution_count": 15,
      "outputs": []
    },
    {
      "cell_type": "code",
      "source": [
        "from lazypredict.Supervised import LazyRegressor\n",
        "\n",
        "from sklearn.model_selection import train_test_split"
      ],
      "metadata": {
        "id": "GNBk7NgnAEkV"
      },
      "execution_count": 16,
      "outputs": []
    },
    {
      "cell_type": "code",
      "source": [
        "X_train, X_test, y_train, y_test = train_test_split(X[:10000], y[:10000],test_size=.2,random_state =123)"
      ],
      "metadata": {
        "id": "ba2juWraAEgr"
      },
      "execution_count": 17,
      "outputs": []
    },
    {
      "cell_type": "code",
      "source": [
        "lazy=LazyRegressor()"
      ],
      "metadata": {
        "id": "UKu1GNBgAEc7"
      },
      "execution_count": 18,
      "outputs": []
    },
    {
      "cell_type": "code",
      "source": [
        "l_out=lazy.fit(X_train,X_test,y_train,y_test)"
      ],
      "metadata": {
        "colab": {
          "base_uri": "https://localhost:8080/"
        },
        "id": "9w6UserLAEZv",
        "outputId": "de24ce3a-94ef-4d8c-b5f1-6b550c143531"
      },
      "execution_count": 19,
      "outputs": [
        {
          "output_type": "stream",
          "name": "stderr",
          "text": [
            "100%|██████████| 42/42 [00:59<00:00,  1.42s/it]"
          ]
        },
        {
          "output_type": "stream",
          "name": "stdout",
          "text": [
            "[LightGBM] [Info] Auto-choosing col-wise multi-threading, the overhead of testing was 0.000992 seconds.\n",
            "You can set `force_col_wise=true` to remove the overhead.\n",
            "[LightGBM] [Info] Total Bins 2550\n",
            "[LightGBM] [Info] Number of data points in the train set: 8000, number of used features: 10\n",
            "[LightGBM] [Info] Start training from score 0.885589\n"
          ]
        },
        {
          "output_type": "stream",
          "name": "stderr",
          "text": [
            "\n"
          ]
        }
      ]
    },
    {
      "cell_type": "code",
      "source": [
        "print(l_out)"
      ],
      "metadata": {
        "id": "BDytSrKnj5E_",
        "colab": {
          "base_uri": "https://localhost:8080/"
        },
        "outputId": "c0bb3398-c8c5-4511-d6fe-ce684aabf80e"
      },
      "execution_count": 20,
      "outputs": [
        {
          "output_type": "execute_result",
          "data": {
            "text/plain": [
              "(                               Adjusted R-Squared  R-Squared  RMSE  Time Taken\n",
              " Model                                                                         \n",
              " LGBMRegressor                                0.96       0.96  0.08        0.25\n",
              " XGBRegressor                                 0.96       0.96  0.08        0.38\n",
              " HistGradientBoostingRegressor                0.96       0.96  0.08        0.50\n",
              " RandomForestRegressor                        0.96       0.96  0.09        7.19\n",
              " KNeighborsRegressor                          0.96       0.96  0.09        0.06\n",
              " ExtraTreesRegressor                          0.95       0.95  0.09        2.21\n",
              " BaggingRegressor                             0.95       0.95  0.09        0.67\n",
              " DecisionTreeRegressor                        0.94       0.94  0.10        0.18\n",
              " ExtraTreeRegressor                           0.94       0.94  0.10        0.09\n",
              " GradientBoostingRegressor                    0.94       0.94  0.10        2.41\n",
              " MLPRegressor                                 0.90       0.90  0.13        2.26\n",
              " SVR                                          0.88       0.88  0.14        1.97\n",
              " NuSVR                                        0.88       0.88  0.15        5.77\n",
              " AdaBoostRegressor                            0.77       0.77  0.20        0.76\n",
              " LassoCV                                      0.54       0.54  0.28        0.41\n",
              " ElasticNetCV                                 0.54       0.54  0.28        0.41\n",
              " Ridge                                        0.54       0.54  0.28        0.02\n",
              " BayesianRidge                                0.54       0.54  0.28        0.07\n",
              " RidgeCV                                      0.54       0.54  0.28        0.03\n",
              " LassoLarsCV                                  0.54       0.54  0.28        0.09\n",
              " LassoLarsIC                                  0.54       0.54  0.28        0.05\n",
              " TransformedTargetRegressor                   0.54       0.54  0.28        0.02\n",
              " LinearRegression                             0.54       0.54  0.28        0.06\n",
              " SGDRegressor                                 0.53       0.53  0.29        0.05\n",
              " OrthogonalMatchingPursuitCV                  0.51       0.51  0.29        0.07\n",
              " HuberRegressor                               0.50       0.51  0.30        0.18\n",
              " LinearSVR                                    0.46       0.47  0.31        0.33\n",
              " PoissonRegressor                             0.44       0.45  0.31        0.18\n",
              " LarsCV                                       0.44       0.44  0.31        0.05\n",
              " OrthogonalMatchingPursuit                    0.44       0.44  0.31        0.04\n",
              " TweedieRegressor                             0.43       0.43  0.32        0.04\n",
              " GammaRegressor                               0.43       0.43  0.32        0.12\n",
              " ElasticNet                                  -0.01      -0.00  0.42        0.02\n",
              " DummyRegressor                              -0.01      -0.00  0.42        0.02\n",
              " Lasso                                       -0.01      -0.00  0.42        0.02\n",
              " LassoLars                                   -0.01      -0.00  0.42        0.03\n",
              " RANSACRegressor                             -0.05      -0.04  0.43        0.53\n",
              " PassiveAggressiveRegressor                  -0.19      -0.18  0.46        0.06\n",
              " GaussianProcessRegressor                    -3.33      -3.30  0.87       23.07\n",
              " KernelRidge                                 -3.98      -3.95  0.93        9.02\n",
              " Lars                                       -85.88     -85.45  3.90        0.02,\n",
              "                                Adjusted R-Squared  R-Squared  RMSE  Time Taken\n",
              " Model                                                                         \n",
              " LGBMRegressor                                0.96       0.96  0.08        0.25\n",
              " XGBRegressor                                 0.96       0.96  0.08        0.38\n",
              " HistGradientBoostingRegressor                0.96       0.96  0.08        0.50\n",
              " RandomForestRegressor                        0.96       0.96  0.09        7.19\n",
              " KNeighborsRegressor                          0.96       0.96  0.09        0.06\n",
              " ExtraTreesRegressor                          0.95       0.95  0.09        2.21\n",
              " BaggingRegressor                             0.95       0.95  0.09        0.67\n",
              " DecisionTreeRegressor                        0.94       0.94  0.10        0.18\n",
              " ExtraTreeRegressor                           0.94       0.94  0.10        0.09\n",
              " GradientBoostingRegressor                    0.94       0.94  0.10        2.41\n",
              " MLPRegressor                                 0.90       0.90  0.13        2.26\n",
              " SVR                                          0.88       0.88  0.14        1.97\n",
              " NuSVR                                        0.88       0.88  0.15        5.77\n",
              " AdaBoostRegressor                            0.77       0.77  0.20        0.76\n",
              " LassoCV                                      0.54       0.54  0.28        0.41\n",
              " ElasticNetCV                                 0.54       0.54  0.28        0.41\n",
              " Ridge                                        0.54       0.54  0.28        0.02\n",
              " BayesianRidge                                0.54       0.54  0.28        0.07\n",
              " RidgeCV                                      0.54       0.54  0.28        0.03\n",
              " LassoLarsCV                                  0.54       0.54  0.28        0.09\n",
              " LassoLarsIC                                  0.54       0.54  0.28        0.05\n",
              " TransformedTargetRegressor                   0.54       0.54  0.28        0.02\n",
              " LinearRegression                             0.54       0.54  0.28        0.06\n",
              " SGDRegressor                                 0.53       0.53  0.29        0.05\n",
              " OrthogonalMatchingPursuitCV                  0.51       0.51  0.29        0.07\n",
              " HuberRegressor                               0.50       0.51  0.30        0.18\n",
              " LinearSVR                                    0.46       0.47  0.31        0.33\n",
              " PoissonRegressor                             0.44       0.45  0.31        0.18\n",
              " LarsCV                                       0.44       0.44  0.31        0.05\n",
              " OrthogonalMatchingPursuit                    0.44       0.44  0.31        0.04\n",
              " TweedieRegressor                             0.43       0.43  0.32        0.04\n",
              " GammaRegressor                               0.43       0.43  0.32        0.12\n",
              " ElasticNet                                  -0.01      -0.00  0.42        0.02\n",
              " DummyRegressor                              -0.01      -0.00  0.42        0.02\n",
              " Lasso                                       -0.01      -0.00  0.42        0.02\n",
              " LassoLars                                   -0.01      -0.00  0.42        0.03\n",
              " RANSACRegressor                             -0.05      -0.04  0.43        0.53\n",
              " PassiveAggressiveRegressor                  -0.19      -0.18  0.46        0.06\n",
              " GaussianProcessRegressor                    -3.33      -3.30  0.87       23.07\n",
              " KernelRidge                                 -3.98      -3.95  0.93        9.02\n",
              " Lars                                       -85.88     -85.45  3.90        0.02)"
            ]
          },
          "metadata": {},
          "execution_count": 20
        }
      ]
    },
    {
      "cell_type": "code",
      "source": [
        "from sklearn.ensemble import HistGradientBoostingRegressor"
      ],
      "metadata": {
        "id": "d1SrglYBf5Q8"
      },
      "execution_count": 21,
      "outputs": []
    },
    {
      "cell_type": "code",
      "source": [
        "hgbr=HistGradientBoostingRegressor(max_iter=800,verbose=0,max_leaf_nodes=100)"
      ],
      "metadata": {
        "id": "_q7G-23wf95F"
      },
      "execution_count": 34,
      "outputs": []
    },
    {
      "cell_type": "code",
      "source": [
        "hgbr.fit(X_train,y_train)"
      ],
      "metadata": {
        "id": "UbrrrufrGpuN"
      },
      "execution_count": null,
      "outputs": []
    },
    {
      "cell_type": "code",
      "source": [
        "y_pred=hgbr.predict(X)\n",
        "\n"
      ],
      "metadata": {
        "id": "pKy1lsXhjc1V"
      },
      "execution_count": 36,
      "outputs": []
    },
    {
      "cell_type": "code",
      "source": [
        "hgbr_df=pd.DataFrame({\"real\":y,\"predicted\":y_pred})"
      ],
      "metadata": {
        "id": "8_zKtEbFh9Y-"
      },
      "execution_count": 37,
      "outputs": []
    },
    {
      "cell_type": "code",
      "source": [],
      "metadata": {
        "id": "NTSRP7__h03X"
      },
      "execution_count": 25,
      "outputs": []
    },
    {
      "cell_type": "code",
      "source": [],
      "metadata": {
        "id": "wmmG8s58Uxe-"
      },
      "execution_count": 152,
      "outputs": []
    },
    {
      "cell_type": "code",
      "source": [
        "grafikon(hgbr_df[45000:50000],\"real\",\"real\",\"predicted\",\"predicted\", n_graf=2)"
      ],
      "metadata": {
        "colab": {
          "base_uri": "https://localhost:8080/",
          "height": 634
        },
        "id": "kxwIe74MVtAF",
        "outputId": "68cb6027-07bc-4551-9c46-25db6514ed3f"
      },
      "execution_count": 39,
      "outputs": [
        {
          "output_type": "execute_result",
          "data": {
            "text/plain": [
              "<module 'matplotlib.pyplot' from '/usr/local/lib/python3.10/dist-packages/matplotlib/pyplot.py'>"
            ]
          },
          "metadata": {},
          "execution_count": 39
        },
        {
          "output_type": "display_data",
          "data": {
            "text/plain": [
              "<Figure size 1288x644 with 1 Axes>"
            ],
            "image/png": "[encoded data removed]"
          },
          "metadata": {}
        }
      ]
    },
    {
      "cell_type": "code",
      "source": [
        "#AQ_T020F\tAQ_T1201A\tAQ_T120F\tAQ_T230A\tAQ_T230F\tAQ_T340A\tAQ_T340F\tAQ_T460A\tAQ_T460F\tQK_F_TK\tEXX_FIG101"
      ],
      "metadata": {
        "id": "E_pGO-ZqKKaF"
      },
      "execution_count": null,
      "outputs": []
    },
    {
      "cell_type": "code",
      "source": [
        "grafikon(X[55000:60000],\"AQ_T230A\",\"0\",\"AQ_T230F\",\"1\",n_graf=2)"
      ],
      "metadata": {
        "colab": {
          "base_uri": "https://localhost:8080/",
          "height": 634
        },
        "id": "87doyPzZJ7L7",
        "outputId": "ddb097f3-45f9-4f0d-b8f3-213b8724f2d6"
      },
      "execution_count": 43,
      "outputs": [
        {
          "output_type": "execute_result",
          "data": {
            "text/plain": [
              "<module 'matplotlib.pyplot' from '/usr/local/lib/python3.10/dist-packages/matplotlib/pyplot.py'>"
            ]
          },
          "metadata": {},
          "execution_count": 43
        },
        {
          "output_type": "display_data",
          "data": {
            "text/plain": [
              "<Figure size 1288x644 with 1 Axes>"
            ],
            "image/png": "[encoded data removed]"
          },
          "metadata": {}
        }
      ]
    }
  ]
}